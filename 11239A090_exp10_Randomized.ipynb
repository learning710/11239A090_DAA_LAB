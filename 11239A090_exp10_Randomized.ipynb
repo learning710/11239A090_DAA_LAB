{
  "nbformat": 4,
  "nbformat_minor": 0,
  "metadata": {
    "colab": {
      "provenance": [],
      "authorship_tag": "ABX9TyPFzRTvPHjJMjIX+lq7RcGS",
      "include_colab_link": true
    },
    "kernelspec": {
      "name": "python3",
      "display_name": "Python 3"
    },
    "language_info": {
      "name": "python"
    }
  },
  "cells": [
    {
      "cell_type": "markdown",
      "metadata": {
        "id": "view-in-github",
        "colab_type": "text"
      },
      "source": [
        "<a href=\"https://colab.research.google.com/github/learning710/11239A090_DAA_LAB/blob/main/11239A090_exp10_Randomized.ipynb\" target=\"_parent\"><img src=\"https://colab.research.google.com/assets/colab-badge.svg\" alt=\"Open In Colab\"/></a>"
      ]
    },
    {
      "cell_type": "code",
      "execution_count": null,
      "metadata": {
        "colab": {
          "base_uri": "https://localhost:8080/"
        },
        "id": "h35Fw_EXap4M",
        "outputId": "36b0caff-ad32-469a-d361-f20761566fcf"
      },
      "outputs": [
        {
          "output_type": "stream",
          "name": "stdout",
          "text": [
            "Vertex Cover: 1 2 3 4 5 7 \n"
          ]
        }
      ],
      "source": [
        "MAX_VERTICES = 100\n",
        "graph = [[0 for _ in range(MAX_VERTICES)] for _ in range(MAX_VERTICES)]\n",
        "included = [False for _ in range(MAX_VERTICES)]\n",
        "def approx_vertex_cover(vertices, edges):\n",
        "    edges_remaining = [row[:] for row in graph]\n",
        "    edge_count = edges\n",
        "    while edge_count > 0:\n",
        "        u, v = -1, -1\n",
        "        for i in range(vertices + 1):\n",
        "            for j in range(vertices + 1):\n",
        "                if edges_remaining[i][j]:\n",
        "                    u = i\n",
        "                    v = j\n",
        "                    break\n",
        "            if u != -1:\n",
        "                break\n",
        "        if u == -1 or v == -1:\n",
        "            break\n",
        "        included[u] = included[v] = True\n",
        "        for i in range(MAX_VERTICES):\n",
        "            if edges_remaining[u][i]:\n",
        "                edges_remaining[u][i] = 0\n",
        "                edges_remaining[i][u] = 0\n",
        "                edge_count -= 1\n",
        "            if edges_remaining[v][i]:\n",
        "                edges_remaining[v][i] = 0\n",
        "                edges_remaining[i][v] = 0\n",
        "                edge_count -= 1\n",
        "\n",
        "if __name__ == \"__main__\":\n",
        "    vertices = 8\n",
        "    edges = 10\n",
        "    edges_data = [(1, 6), (1, 2), (1, 4), (2, 3), (2, 4),\n",
        "                  (6, 7), (4, 7), (7, 8), (3, 5), (8, 5)]\n",
        "    for u, v in edges_data:\n",
        "        graph[u][v] = graph[v][u] = 1\n",
        "    approx_vertex_cover(vertices, edges)\n",
        "    print(\"Vertex Cover:\", end=\" \")\n",
        "    for i in range(1, vertices + 1):\n",
        "        if included[i]:\n",
        "            print(i, end=\" \")\n",
        "    print()"
      ]
    }
  ]
}