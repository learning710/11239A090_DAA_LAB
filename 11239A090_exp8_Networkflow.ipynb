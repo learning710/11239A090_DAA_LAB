{
  "nbformat": 4,
  "nbformat_minor": 0,
  "metadata": {
    "colab": {
      "provenance": [],
      "authorship_tag": "ABX9TyNC7ta/kf0VjeGI4YNU2Mkz",
      "include_colab_link": true
    },
    "kernelspec": {
      "name": "python3",
      "display_name": "Python 3"
    },
    "language_info": {
      "name": "python"
    }
  },
  "cells": [
    {
      "cell_type": "markdown",
      "metadata": {
        "id": "view-in-github",
        "colab_type": "text"
      },
      "source": [
        "<a href=\"https://colab.research.google.com/github/learning710/11239A090_DAA_LAB/blob/main/11239A090_exp8_Networkflow.ipynb\" target=\"_parent\"><img src=\"https://colab.research.google.com/assets/colab-badge.svg\" alt=\"Open In Colab\"/></a>"
      ]
    },
    {
      "cell_type": "code",
      "execution_count": null,
      "metadata": {
        "colab": {
          "base_uri": "https://localhost:8080/"
        },
        "id": "wxsfEMUbePOe",
        "outputId": "8a13c63b-e2d0-4e64-d595-109c6b113d37"
      },
      "outputs": [
        {
          "output_type": "stream",
          "name": "stdout",
          "text": [
            "Source: 0, Sink: 5\n",
            "The maximum possible flow is: 23\n",
            "\n",
            "Augmenting paths:\n",
            "Path 1: [0, 2, 4, 5] with flow: 4\n",
            "Path 2: [0, 2, 4, 3, 5] with flow: 7\n",
            "Path 3: [0, 1, 3, 5] with flow: 12\n"
          ]
        }
      ],
      "source": [
        "class Graph:\n",
        "    def __init__(self, vertices):\n",
        "        self.V = vertices\n",
        "        self.graph = [[0] * vertices for _ in range(vertices)]\n",
        "    def dfs(self, s, t, parent):\n",
        "        visited = [False] * self.V\n",
        "        stack = [s]\n",
        "        visited[s] = True\n",
        "        while stack:\n",
        "            u = stack.pop()\n",
        "            for v in range(self.V):\n",
        "                if visited[v] == False and self.graph[u][v] > 0:\n",
        "                    stack.append(v)\n",
        "                    visited[v] = True\n",
        "                    parent[v] = u\n",
        "                    if v == t:\n",
        "                        return True\n",
        "        return False\n",
        "    def ford_fulkerson(self, source, sink):\n",
        "        parent = [-1] * self.V\n",
        "        max_flow = 0\n",
        "        all_paths = []\n",
        "        while self.dfs(source, sink, parent):\n",
        "            path_flow = float('Inf')\n",
        "            path = []\n",
        "            s = sink\n",
        "            while s != source:\n",
        "                path.append(s)\n",
        "                path_flow = min(path_flow, self.graph[parent[s]][s])\n",
        "                s = parent[s]\n",
        "            path.append(source)\n",
        "            path.reverse()\n",
        "            all_paths.append((path, path_flow))\n",
        "            max_flow += path_flow\n",
        "            v = sink\n",
        "            while v != source:\n",
        "                u = parent[v]\n",
        "                self.graph[u][v] -= path_flow\n",
        "                self.graph[v][u] += path_flow\n",
        "                v = parent[v]\n",
        "        return max_flow, all_paths\n",
        "\n",
        "if __name__ == \"__main__\":\n",
        "    g = Graph(6)\n",
        "    g.graph[0][1] = 16\n",
        "    g.graph[0][2] = 13\n",
        "    g.graph[1][2] = 10\n",
        "    g.graph[1][3] = 12\n",
        "    g.graph[2][1] = 4\n",
        "    g.graph[2][4] = 14\n",
        "    g.graph[3][2] = 9\n",
        "    g.graph[3][5] = 20\n",
        "    g.graph[4][3] = 7\n",
        "    g.graph[4][5] = 4\n",
        "    source = 0\n",
        "    sink = 5\n",
        "    max_flow, all_paths = g.ford_fulkerson(source, sink)\n",
        "    print(f\"Source: {source}, Sink: {sink}\")\n",
        "    print(f\"The maximum possible flow is: {max_flow}\")\n",
        "    print(\"\\nAugmenting paths:\")\n",
        "    for i, (path, flow) in enumerate(all_paths):\n",
        "        print(f\"Path {i+1}: {path} with flow: {flow}\")\n"
      ]
    }
  ]
}