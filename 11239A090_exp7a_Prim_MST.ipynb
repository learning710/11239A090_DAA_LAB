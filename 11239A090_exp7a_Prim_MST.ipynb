{
  "nbformat": 4,
  "nbformat_minor": 0,
  "metadata": {
    "colab": {
      "provenance": [],
      "authorship_tag": "ABX9TyO7tIa8MUouZeVrV7Na3zRJ",
      "include_colab_link": true
    },
    "kernelspec": {
      "name": "python3",
      "display_name": "Python 3"
    },
    "language_info": {
      "name": "python"
    }
  },
  "cells": [
    {
      "cell_type": "markdown",
      "metadata": {
        "id": "view-in-github",
        "colab_type": "text"
      },
      "source": [
        "<a href=\"https://colab.research.google.com/github/learning710/11239A090_DAA_LAB/blob/main/11239A090_exp7a_Prim_MST.ipynb\" target=\"_parent\"><img src=\"https://colab.research.google.com/assets/colab-badge.svg\" alt=\"Open In Colab\"/></a>"
      ]
    },
    {
      "cell_type": "code",
      "execution_count": null,
      "metadata": {
        "colab": {
          "base_uri": "https://localhost:8080/"
        },
        "id": "V-VILUBFKefl",
        "outputId": "81fab214-4333-4bce-de7c-ffe0281eb779"
      },
      "outputs": [
        {
          "output_type": "stream",
          "name": "stdout",
          "text": [
            "Graph vertices:  [0, 1, 2, 3, 4]\n",
            "Graph edges with weights:\n",
            "Edge: 0 - 1, Weight: 2\n",
            "Edge: 0 - 3, Weight: 6\n",
            "Edge: 1 - 2, Weight: 3\n",
            "Edge: 1 - 3, Weight: 8\n",
            "Edge: 1 - 4, Weight: 5\n",
            "Edge: 2 - 4, Weight: 7\n",
            "Edge: 3 - 4, Weight: 9\n",
            "\n",
            "Minimum Spanning Tree edges:\n",
            "Edge: 0 - 1, Weight: 2\n",
            "Edge: 1 - 2, Weight: 3\n",
            "Edge: 1 - 4, Weight: 5\n",
            "Edge: 0 - 3, Weight: 6\n",
            "Total cost of MST: 16\n"
          ]
        }
      ],
      "source": [
        "import heapq\n",
        "\n",
        "class Graph:\n",
        "    def __init__(self, vertices):\n",
        "        self.V = vertices\n",
        "        self.graph = []\n",
        "\n",
        "    def add_edge(self, u, v, w):\n",
        "        self.graph.append((w, u, v))\n",
        "\n",
        "    def prim_mst(self):\n",
        "        self.graph.sort()\n",
        "        pq = []\n",
        "        in_mst = [False] * self.V\n",
        "        in_mst[0] = True\n",
        "        for weight, u, v in self.graph:\n",
        "            if u == 0 or v == 0:\n",
        "                heapq.heappush(pq, (weight, u, v))\n",
        "        mst_edges = []\n",
        "        total_cost = 0\n",
        "        while pq:\n",
        "            weight, u, v = heapq.heappop(pq)\n",
        "            if not in_mst[v]:\n",
        "                in_mst[v] = True\n",
        "                mst_edges.append((u, v, weight))\n",
        "                total_cost += weight\n",
        "                for next_weight, next_u, next_v in self.graph:\n",
        "                    if (next_u == v and not in_mst[next_v]) or (next_v == v and not in_mst[next_u]):\n",
        "                        heapq.heappush(pq, (next_weight, next_u, next_v))\n",
        "        return mst_edges, total_cost\n",
        "\n",
        "    def display_graph(self):\n",
        "        print(\"Graph vertices: \", list(range(self.V)))\n",
        "        print(\"Graph edges with weights:\")\n",
        "        for weight, u, v in self.graph:\n",
        "            print(f\"Edge: {u} - {v}, Weight: {weight}\")\n",
        "\n",
        "def main():\n",
        "    g = Graph(5)\n",
        "    g.add_edge(0, 1, 2)\n",
        "    g.add_edge(0, 3, 6)\n",
        "    g.add_edge(1, 2, 3)\n",
        "    g.add_edge(1, 3, 8)\n",
        "    g.add_edge(1, 4, 5)\n",
        "    g.add_edge(2, 4, 7)\n",
        "    g.add_edge(3, 4, 9)\n",
        "\n",
        "    g.display_graph()\n",
        "\n",
        "    mst_edges, total_cost = g.prim_mst()\n",
        "\n",
        "    print(\"\\nMinimum Spanning Tree edges:\")\n",
        "    for u, v, weight in mst_edges:\n",
        "        print(f\"Edge: {u} - {v}, Weight: {weight}\")\n",
        "    print(f\"Total cost of MST: {total_cost}\")\n",
        "\n",
        "if __name__ == \"__main__\":\n",
        "    main()"
      ]
    }
  ]
}