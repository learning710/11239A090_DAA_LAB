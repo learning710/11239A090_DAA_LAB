{
  "nbformat": 4,
  "nbformat_minor": 0,
  "metadata": {
    "colab": {
      "provenance": [],
      "authorship_tag": "ABX9TyMuNnJkox9PUY+FmtORUiZ0",
      "include_colab_link": true
    },
    "kernelspec": {
      "name": "python3",
      "display_name": "Python 3"
    },
    "language_info": {
      "name": "python"
    }
  },
  "cells": [
    {
      "cell_type": "markdown",
      "metadata": {
        "id": "view-in-github",
        "colab_type": "text"
      },
      "source": [
        "<a href=\"https://colab.research.google.com/github/learning710/11239A090_DAA_LAB/blob/main/11239A090_exp4_Fractionalkp_GM.ipynb\" target=\"_parent\"><img src=\"https://colab.research.google.com/assets/colab-badge.svg\" alt=\"Open In Colab\"/></a>"
      ]
    },
    {
      "cell_type": "code",
      "execution_count": null,
      "metadata": {
        "colab": {
          "base_uri": "https://localhost:8080/"
        },
        "id": "DvpxLSc_9uVk",
        "outputId": "3dd9a298-97b3-4c5d-f393-f0c8c480cb44"
      },
      "outputs": [
        {
          "output_type": "stream",
          "name": "stdout",
          "text": [
            "Maximum Value in Knapsack: 240.00\n",
            "\n",
            "Items Taken (Value, Weight, Fraction Taken):\n",
            "Value: 60, Weight: 10, Fraction Taken: 1/1\n",
            "Value: 100, Weight: 20, Fraction Taken: 1/1\n",
            "Value: 120, Weight: 30, Fraction Taken: 2/3\n"
          ]
        }
      ],
      "source": [
        "from fractions import Fraction\n",
        "\n",
        "class Item:\n",
        "    def __init__(self, value, weight):\n",
        "        self.value = value\n",
        "        self.weight = weight\n",
        "        self.ratio = value / weight  # Value-to-weight ratio\n",
        "\n",
        "def fractional_knapsack(items, capacity):\n",
        "    items.sort(key=lambda item: item.ratio, reverse=True)\n",
        "\n",
        "    total_value = 0  # Total value of knapsack\n",
        "    knapsack_contents = []  # List to store chosen items\n",
        "\n",
        "    for item in items:\n",
        "        if capacity >= item.weight:\n",
        "            knapsack_contents.append((item.value, item.weight, \"1/1\"))  # Full item taken\n",
        "            total_value += item.value\n",
        "            capacity -= item.weight\n",
        "        else:\n",
        "            fraction = Fraction(capacity, item.weight)  # Fractional representation\n",
        "            knapsack_contents.append((item.value, item.weight, str(fraction)))  # Store fraction\n",
        "            total_value += item.value * float(fraction)\n",
        "            break  # Knapsack is full\n",
        "\n",
        "    return total_value, knapsack_contents\n",
        "\n",
        "# Example Usage\n",
        "items = [\n",
        "    Item(60, 10),  # (value, weight)\n",
        "    Item(100, 20),\n",
        "    Item(120, 30)\n",
        "]\n",
        "capacity = 50\n",
        "\n",
        "max_value, chosen_items = fractional_knapsack(items, capacity)\n",
        "\n",
        "print(f\"Maximum Value in Knapsack: {max_value:.2f}\")\n",
        "print(\"\\nItems Taken (Value, Weight, Fraction Taken):\")\n",
        "for value, weight, fraction in chosen_items:\n",
        "    print(f\"Value: {value}, Weight: {weight}, Fraction Taken: {fraction}\")\n",
        "\n"
      ]
    },
    {
      "cell_type": "code",
      "source": [],
      "metadata": {
        "id": "-ELGtxiDCKTD"
      },
      "execution_count": null,
      "outputs": []
    }
  ]
}