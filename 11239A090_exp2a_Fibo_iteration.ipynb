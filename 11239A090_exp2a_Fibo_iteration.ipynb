{
  "nbformat": 4,
  "nbformat_minor": 0,
  "metadata": {
    "colab": {
      "provenance": [],
      "authorship_tag": "ABX9TyO0ZGwtluHh4ATqNg1OehYe",
      "include_colab_link": true
    },
    "kernelspec": {
      "name": "python3",
      "display_name": "Python 3"
    },
    "language_info": {
      "name": "python"
    }
  },
  "cells": [
    {
      "cell_type": "markdown",
      "metadata": {
        "id": "view-in-github",
        "colab_type": "text"
      },
      "source": [
        "<a href=\"https://colab.research.google.com/github/learning710/11239A090_DAA_LAB/blob/main/11239A090_exp2a_Fibo_iteration.ipynb\" target=\"_parent\"><img src=\"https://colab.research.google.com/assets/colab-badge.svg\" alt=\"Open In Colab\"/></a>"
      ]
    },
    {
      "cell_type": "code",
      "execution_count": null,
      "metadata": {
        "id": "EiJ9BduIFr4T"
      },
      "outputs": [],
      "source": [
        "def fibonacci(n):\n",
        "   a, b = 0, 1\n",
        "   count = 0\n",
        "   while count < n:\n",
        "       print(a, end=' ')\n",
        "       a, b = b, a + b\n",
        "       count += 1\n",
        "\n",
        "num = int(input(\"Enter number of terms: \"))\n",
        "if num < 0:\n",
        "   print(\"Enter a non negative value: \")\n",
        "else:\n",
        "   fibonacci(num)\n"
      ]
    }
  ]
}