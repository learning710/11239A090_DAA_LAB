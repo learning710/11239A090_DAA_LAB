{
  "nbformat": 4,
  "nbformat_minor": 0,
  "metadata": {
    "colab": {
      "provenance": [],
      "authorship_tag": "ABX9TyOxs24f+RqavLBrrSVa/NHo",
      "include_colab_link": true
    },
    "kernelspec": {
      "name": "python3",
      "display_name": "Python 3"
    },
    "language_info": {
      "name": "python"
    }
  },
  "cells": [
    {
      "cell_type": "markdown",
      "metadata": {
        "id": "view-in-github",
        "colab_type": "text"
      },
      "source": [
        "<a href=\"https://colab.research.google.com/github/learning710/11239A090_DAA_LAB/blob/main/11239A090_exp3_Binpacking.ipynb\" target=\"_parent\"><img src=\"https://colab.research.google.com/assets/colab-badge.svg\" alt=\"Open In Colab\"/></a>"
      ]
    },
    {
      "cell_type": "code",
      "execution_count": null,
      "metadata": {
        "colab": {
          "base_uri": "https://localhost:8080/"
        },
        "id": "Ea20LO6VGJ7m",
        "outputId": "a3d415a7-03ae-4644-fe64-27595db9e58b"
      },
      "outputs": [
        {
          "output_type": "stream",
          "name": "stdout",
          "text": [
            "Best Fit Bins:\n",
            "Number of bins used: 2\n",
            "Remaining space in each bin: [0, 0]\n",
            "\n",
            "First Fit Bins:\n",
            "Bin 1: Items = [4, 1, 4, 1], Remaining Space = 0\n",
            "Bin 2: Items = [8, 2], Remaining Space = 0\n",
            "Total number of bins used: 2\n",
            "\n",
            "Next Fit Bins:\n",
            "Bin 1: Items = [4], Remaining Space = 6\n",
            "Bin 2: Items = [8, 1], Remaining Space = 1\n",
            "Bin 3: Items = [4, 2, 1], Remaining Space = 3\n",
            "Total number of bins used: 3\n"
          ]
        }
      ],
      "source": [
        "def best_fit(items, bin_capacity):\n",
        "   bins = []\n",
        "   for item in items:\n",
        "       best_bin_index = -1\n",
        "       min_space_left = float('inf')\n",
        "       for i in range(len(bins)):\n",
        "           space_left = bins[i] - item\n",
        "           if (space_left >= 0) and (space_left < min_space_left):\n",
        "               min_space_left = space_left\n",
        "               best_bin_index = i\n",
        "       if best_bin_index != -1:\n",
        "           bins[best_bin_index] -= item\n",
        "       else:\n",
        "           bins.append(bin_capacity - item)\n",
        "   return bins\n",
        "\n",
        "def first_fit(items, bin_capacity):\n",
        "   bins = []\n",
        "   remaining_space = []\n",
        "   for item in items:\n",
        "       placed = False\n",
        "       for i in range(len(bins)):\n",
        "           if remaining_space[i] >= item:\n",
        "               bins[i].append(item)\n",
        "               remaining_space[i] -= item\n",
        "               placed = True\n",
        "               break\n",
        "       if not placed:\n",
        "           bins.append([item])\n",
        "           remaining_space.append(bin_capacity - item)\n",
        "   return bins, remaining_space\n",
        "\n",
        "def next_fit(items, bin_capacity):\n",
        "   bins = []\n",
        "   current_bin = []\n",
        "   current_bin_capacity = bin_capacity\n",
        "   for item in items:\n",
        "       if current_bin_capacity < item:\n",
        "           if current_bin:\n",
        "               bins.append((current_bin, current_bin_capacity))\n",
        "           current_bin = [item]\n",
        "           current_bin_capacity = bin_capacity - item\n",
        "       else:\n",
        "           current_bin.append(item)\n",
        "           current_bin_capacity -= item\n",
        "   if current_bin:\n",
        "       bins.append((current_bin, current_bin_capacity))\n",
        "   return bins\n",
        "\n",
        "\n",
        "if __name__ == \"__main__\":\n",
        "   items = [4, 8, 1, 4, 2, 1]\n",
        "   bin_capacity = 10\n",
        "   bins_used = best_fit(items, bin_capacity)\n",
        "   print('Best Fit Bins:')\n",
        "   print(f\"Number of bins used: {len(bins_used)}\")\n",
        "   print(f\"Remaining space in each bin: {bins_used}\")\n",
        "\n",
        "items = [4, 8, 1, 4, 2, 1]\n",
        "bin_capacity = 10\n",
        "result_bins, remaining_space = first_fit(items, bin_capacity)\n",
        "print(\"\\nFirst Fit Bins:\")\n",
        "for i, (bin_items, space) in enumerate(zip(result_bins, remaining_space)):\n",
        "   print(f\"Bin {i + 1}: Items = {bin_items}, Remaining Space = {space}\")\n",
        "print(f\"Total number of bins used: {len(result_bins)}\")\n",
        "\n",
        "items = [4, 8, 1, 4, 2, 1]\n",
        "bin_capacity = 10\n",
        "bins = next_fit(items, bin_capacity)\n",
        "print(\"\\nNext Fit Bins:\")\n",
        "for i, (bin_items, remaining_space) in enumerate(bins):\n",
        "   print(f\"Bin {i + 1}: Items = {bin_items}, Remaining Space = {remaining_space}\")\n",
        "print(f\"Total number of bins used: {len(bins)}\")\n"
      ]
    }
  ]
}