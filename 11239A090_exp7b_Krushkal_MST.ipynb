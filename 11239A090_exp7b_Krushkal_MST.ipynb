{
  "nbformat": 4,
  "nbformat_minor": 0,
  "metadata": {
    "colab": {
      "provenance": [],
      "authorship_tag": "ABX9TyNEXvCYJYTqpBjaYzZbq+fw",
      "include_colab_link": true
    },
    "kernelspec": {
      "name": "python3",
      "display_name": "Python 3"
    },
    "language_info": {
      "name": "python"
    }
  },
  "cells": [
    {
      "cell_type": "markdown",
      "metadata": {
        "id": "view-in-github",
        "colab_type": "text"
      },
      "source": [
        "<a href=\"https://colab.research.google.com/github/learning710/11239A090_DAA_LAB/blob/main/11239A090_exp7b_Krushkal_MST.ipynb\" target=\"_parent\"><img src=\"https://colab.research.google.com/assets/colab-badge.svg\" alt=\"Open In Colab\"/></a>"
      ]
    },
    {
      "cell_type": "code",
      "execution_count": null,
      "metadata": {
        "colab": {
          "base_uri": "https://localhost:8080/"
        },
        "id": "I3KKvz4xN_Qy",
        "outputId": "84b13e77-1b8a-4198-e485-c6f62281dc13"
      },
      "outputs": [
        {
          "output_type": "stream",
          "name": "stdout",
          "text": [
            "Graph vertices (in increasing order):  [0, 1, 2, 3, 4]\n",
            "Graph edges with weights:\n",
            "Edge: 0 - 1, Weight: 2\n",
            "Edge: 0 - 3, Weight: 6\n",
            "Edge: 1 - 2, Weight: 3\n",
            "Edge: 1 - 3, Weight: 8\n",
            "Edge: 1 - 4, Weight: 5\n",
            "Edge: 2 - 4, Weight: 7\n",
            "Edge: 3 - 4, Weight: 9\n",
            "\n",
            "Minimum Spanning Tree edges:\n",
            "Edge: 0 - 1, Weight: 2\n",
            "Edge: 1 - 2, Weight: 3\n",
            "Edge: 1 - 4, Weight: 5\n",
            "Edge: 0 - 3, Weight: 6\n",
            "Total cost of MST: 16\n"
          ]
        }
      ],
      "source": [
        "class Graph:\n",
        "    def __init__(self, vertices):\n",
        "        self.V = vertices\n",
        "        self.edges = []\n",
        "\n",
        "    def add_edge(self, u, v, w):\n",
        "        self.edges.append((w, u, v))\n",
        "\n",
        "    def find_parent(self, parent, i):\n",
        "        if parent[i] != i:\n",
        "            parent[i] = self.find_parent(parent, parent[i])\n",
        "        return parent[i]\n",
        "\n",
        "    def union(self, parent, rank, x, y):\n",
        "        if rank[x] < rank[y]:\n",
        "            parent[x] = y\n",
        "        elif rank[x] > rank[y]:\n",
        "            parent[y] = x\n",
        "        else:\n",
        "            parent[y] = x\n",
        "            rank[x] += 1\n",
        "\n",
        "    def kruskal_mst(self):\n",
        "        self.edges.sort()\n",
        "        parent = list(range(self.V))\n",
        "        rank = [0] * self.V\n",
        "        mst, cost = [], 0\n",
        "\n",
        "        for w, u, v in self.edges:\n",
        "            x, y = self.find_parent(parent, u), self.find_parent(parent, v)\n",
        "            if x != y:\n",
        "                mst.append((u, v, w))\n",
        "                cost += w\n",
        "                self.union(parent, rank, x, y)\n",
        "\n",
        "        return mst, cost\n",
        "\n",
        "def main():\n",
        "    g = Graph(5)\n",
        "    for u, v, w in [(0, 1, 2), (0, 3, 6), (1, 2, 3), (1, 3, 8),\n",
        "                    (1, 4, 5), (2, 4, 7), (3, 4, 9)]:\n",
        "        g.add_edge(u, v, w)\n",
        "\n",
        "    mst, cost = g.kruskal_mst()\n",
        "    print(\"Minimum Spanning Tree edges:\")\n",
        "    for u, v, w in mst:\n",
        "        print(f\"Edge: {u} - {v}, Weight: {w}\")\n",
        "    print(f\"Total cost of MST: {cost}\")\n",
        "\n",
        "if __name__ == \"__main__\":\n",
        "    main()"
      ]
    }
  ]
}