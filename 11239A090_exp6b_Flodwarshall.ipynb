{
  "nbformat": 4,
  "nbformat_minor": 0,
  "metadata": {
    "colab": {
      "provenance": [],
      "authorship_tag": "ABX9TyPqjpkTHpGGFvkpmNiXklqq",
      "include_colab_link": true
    },
    "kernelspec": {
      "name": "python3",
      "display_name": "Python 3"
    },
    "language_info": {
      "name": "python"
    }
  },
  "cells": [
    {
      "cell_type": "markdown",
      "metadata": {
        "id": "view-in-github",
        "colab_type": "text"
      },
      "source": [
        "<a href=\"https://colab.research.google.com/github/learning710/11239A090_DAA_LAB/blob/main/11239A090_exp6b_Flodwarshall.ipynb\" target=\"_parent\"><img src=\"https://colab.research.google.com/assets/colab-badge.svg\" alt=\"Open In Colab\"/></a>"
      ]
    },
    {
      "cell_type": "code",
      "execution_count": null,
      "metadata": {
        "colab": {
          "base_uri": "https://localhost:8080/"
        },
        "id": "pevpF1c7HzJj",
        "outputId": "328f1107-99ba-4d37-d4ce-6435103040d1"
      },
      "outputs": [
        {
          "output_type": "stream",
          "name": "stdout",
          "text": [
            "Shortest path distance matrix:\n",
            "[[0. 1. 3.]\n",
            " [1. 0. 2.]\n",
            " [3. 2. 0.]]\n"
          ]
        }
      ],
      "source": [
        "import numpy as np\n",
        "def floyd_warshall(graph):\n",
        "    num_vertices = len(graph)\n",
        "    distance = np.full((num_vertices, num_vertices), np.inf)\n",
        "    for i in range(num_vertices):\n",
        "        distance[i][i] = 0\n",
        "    for i in range(num_vertices):\n",
        "        for j in range(num_vertices):\n",
        "            if graph[i][j] != 0:\n",
        "                distance[i][j] = graph[i][j]\n",
        "    for k in range(num_vertices):\n",
        "        for i in range(num_vertices):\n",
        "            for j in range(num_vertices):\n",
        "                if distance[i][j] > distance[i][k] + distance[k][j]:\n",
        "                    distance[i][j] = distance[i][k] + distance[k][j]\n",
        "    return distance\n",
        "\n",
        "graph = [\n",
        "    [0, 1, np.inf],\n",
        "    [1, 0, 2],\n",
        "    [np.inf, 2, 0]\n",
        "]\n",
        "shortest_paths = floyd_warshall(graph)\n",
        "print(\"Shortest path distance matrix:\")\n",
        "print(shortest_paths)"
      ]
    }
  ]
}