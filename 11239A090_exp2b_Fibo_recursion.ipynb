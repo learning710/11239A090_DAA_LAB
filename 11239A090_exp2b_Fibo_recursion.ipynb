{
  "nbformat": 4,
  "nbformat_minor": 0,
  "metadata": {
    "colab": {
      "provenance": [],
      "authorship_tag": "ABX9TyOBUy58XuHM6qwyWcUaCGGm",
      "include_colab_link": true
    },
    "kernelspec": {
      "name": "python3",
      "display_name": "Python 3"
    },
    "language_info": {
      "name": "python"
    }
  },
  "cells": [
    {
      "cell_type": "markdown",
      "metadata": {
        "id": "view-in-github",
        "colab_type": "text"
      },
      "source": [
        "<a href=\"https://colab.research.google.com/github/learning710/11239A090_DAA_LAB/blob/main/11239A090_exp2b_Fibo_recursion.ipynb\" target=\"_parent\"><img src=\"https://colab.research.google.com/assets/colab-badge.svg\" alt=\"Open In Colab\"/></a>"
      ]
    },
    {
      "cell_type": "code",
      "execution_count": null,
      "metadata": {
        "colab": {
          "base_uri": "https://localhost:8080/"
        },
        "id": "_qrmSc7OF7gb",
        "outputId": "d1672745-d4fd-4108-9b29-0ec5f845109b"
      },
      "outputs": [
        {
          "output_type": "stream",
          "name": "stdout",
          "text": [
            "Enter number of terms : 2\n",
            "0 1 "
          ]
        }
      ],
      "source": [
        "def fibonacci(n):\n",
        "   if n <= 0:\n",
        "       return 0\n",
        "   elif n == 1:\n",
        "       return 1\n",
        "   else:\n",
        "       return fibonacci(n-1) + fibonacci(n-2)\n",
        "\n",
        "num = int(input(\"Enter number of terms : \"))\n",
        "if num < 0:\n",
        "   print(\"Enter a non negative number\")\n",
        "else:\n",
        "   for i in range(num):\n",
        "       print(fibonacci(i), end=' ')\n"
      ]
    }
  ]
}