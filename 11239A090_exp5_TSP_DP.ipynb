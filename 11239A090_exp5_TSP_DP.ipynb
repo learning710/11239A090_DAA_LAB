{
  "nbformat": 4,
  "nbformat_minor": 0,
  "metadata": {
    "colab": {
      "provenance": [],
      "authorship_tag": "ABX9TyPi1mcynfvBnH+ZbQe63sYZ",
      "include_colab_link": true
    },
    "kernelspec": {
      "name": "python3",
      "display_name": "Python 3"
    },
    "language_info": {
      "name": "python"
    }
  },
  "cells": [
    {
      "cell_type": "markdown",
      "metadata": {
        "id": "view-in-github",
        "colab_type": "text"
      },
      "source": [
        "<a href=\"https://colab.research.google.com/github/learning710/11239A090_DAA_LAB/blob/main/11239A090_exp5_TSP_DP.ipynb\" target=\"_parent\"><img src=\"https://colab.research.google.com/assets/colab-badge.svg\" alt=\"Open In Colab\"/></a>"
      ]
    },
    {
      "cell_type": "code",
      "execution_count": null,
      "metadata": {
        "colab": {
          "base_uri": "https://localhost:8080/"
        },
        "id": "XLetRpZhChGc",
        "outputId": "33d55210-32c2-4d84-d2bd-61d30f81bc89"
      },
      "outputs": [
        {
          "output_type": "stream",
          "name": "stdout",
          "text": [
            "Minimum cost: 80\n",
            "Shortest Path: 0 → 1 → 3 → 2 → 0\n"
          ]
        }
      ],
      "source": [
        "INF = float('inf')\n",
        "\n",
        "def tsp_dp(graph):\n",
        "    n = len(graph)\n",
        "    memo = {}\n",
        "\n",
        "    # Recursive function with memoization\n",
        "    def visit(mask, pos):\n",
        "        if mask == (1 << n) - 1:  # All cities visited\n",
        "            return graph[pos][0]  # Return to the start city\n",
        "\n",
        "        if (mask, pos) in memo:\n",
        "            return memo[(mask, pos)]\n",
        "\n",
        "        min_cost = INF\n",
        "        for city in range(n):\n",
        "            if (mask & (1 << city)) == 0:  # If city not visited\n",
        "                new_cost = graph[pos][city] + visit(mask | (1 << city), city)\n",
        "                if new_cost < min_cost:\n",
        "                    min_cost = new_cost\n",
        "                    memo[(mask, pos)] = min_cost  # Store result\n",
        "\n",
        "        return min_cost\n",
        "\n",
        "    # Reconstructing the shortest path\n",
        "    def find_path():\n",
        "        mask = 1  # Start from city 0\n",
        "        pos = 0\n",
        "        path = [0]\n",
        "\n",
        "        while len(path) < n:\n",
        "            next_city = None\n",
        "            min_cost = INF\n",
        "\n",
        "            for city in range(n):\n",
        "                if (mask & (1 << city)) == 0:  # If city not visited\n",
        "                    new_mask = mask | (1 << city)\n",
        "                    cost = graph[pos][city] + visit(new_mask, city)\n",
        "                    if cost < min_cost:\n",
        "                        min_cost = cost\n",
        "                        next_city = city\n",
        "\n",
        "            path.append(next_city)\n",
        "            mask |= (1 << next_city)\n",
        "            pos = next_city\n",
        "\n",
        "        path.append(0)  # Return to starting city\n",
        "        return path\n",
        "\n",
        "    min_cost = visit(1, 0)\n",
        "    path = find_path()\n",
        "\n",
        "    return min_cost, path\n",
        "\n",
        "# Example Graph (Adjacency Matrix)\n",
        "graph = [\n",
        "    [0, 10, 15, 20],\n",
        "    [10, 0, 35, 25],\n",
        "    [15, 35, 0, 30],\n",
        "    [20, 25, 30, 0]\n",
        "]\n",
        "\n",
        "# Solve TSP\n",
        "min_cost, path = tsp_dp(graph)\n",
        "\n",
        "# Display results\n",
        "print(f\"Minimum cost: {min_cost}\")\n",
        "print(\"Shortest Path: \" + \" → \".join(map(str, path)))"
      ]
    }
  ]
}